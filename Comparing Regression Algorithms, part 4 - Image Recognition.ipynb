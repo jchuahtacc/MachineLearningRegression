{
 "cells": [
  {
   "cell_type": "markdown",
   "metadata": {},
   "source": [
    "### Image Recognition\n",
    "\n",
    "So what does machine learning actually do? (Other than figuring out your shopping preferences and sending you directed advertising?) Machine learning is very useful in image recognition. We will do a very simple machine learning exercise that involves recognizing hand-written numeric digits. The code here is from [TensorFlow: MNIST For ML Beginners](https://www.tensorflow.org/get_started/mnist/beginners). This is considered the \"Hello World\" of machine learning.\n"
   ]
  },
  {
   "cell_type": "markdown",
   "metadata": {},
   "source": [
    "### Getting some training data\n",
    "\n",
    "We will need some training data to feed our machine learning system, just like how we trained a machine learning system with some data points when we did regressions. The code cell below downloads the standard MNIST machine learning training data sets. "
   ]
  },
  {
   "cell_type": "code",
   "execution_count": 4,
   "metadata": {
    "collapsed": false
   },
   "outputs": [
    {
     "name": "stdout",
     "output_type": "stream",
     "text": [
      "Extracting MNIST_data/train-images-idx3-ubyte.gz\n",
      "Extracting MNIST_data/train-labels-idx1-ubyte.gz\n",
      "Extracting MNIST_data/t10k-images-idx3-ubyte.gz\n",
      "Extracting MNIST_data/t10k-labels-idx1-ubyte.gz\n"
     ]
    }
   ],
   "source": [
    "from tensorflow.examples.tutorials.mnist import input_data\n",
    "mnist = input_data.read_data_sets(\"MNIST_data/\", one_hot=True)"
   ]
  },
  {
   "cell_type": "markdown",
   "metadata": {
    "collapsed": true
   },
   "source": [
    "### `y = W x + b` revisited\n",
    "\n",
    "Here is where our classic linear equation does something very interesting. Let's pretend that instead of dealing with scalar values (singleton numbers) we are instead working with matrices. We want the input value `x` to be some type of image (which we flatten from 28 x 28 grayscale pixels into a 1 dimensional array of 784 floating point numbers). We want the output to be a list of probabilities, corresponding to each digit. For example, the output `y[0]` would tell us the probability of the input representing the number `0`. The output `y[6]` would tell us the probability of the input representing the number `6`. \n",
    "\n",
    "What about `W` and `b`, then? Well, we want `W` to be some type of weighting system. `W` is a matrix with 10 rows, each corresponding to a different digit. Each row has 784 values which represent the weight, or importance, of a pixel being a part of that digit. The `b` value is a \"bias\" that adjusts the probabilities at the end.\n",
    "\n",
    "...And remember, we let the computer figure out what the `W` and `b` values are through training. We first setup our tensors..."
   ]
  },
  {
   "cell_type": "code",
   "execution_count": 5,
   "metadata": {
    "collapsed": false
   },
   "outputs": [],
   "source": [
    "import tensorflow as tf\n",
    "\n",
    "x = tf.placeholder(tf.float32, [None, 784])\n",
    "W = tf.Variable(tf.zeros([784, 10]))\n",
    "b = tf.Variable(tf.zeros([10]))\n",
    "\n",
    "y = tf.matmul(x, W) + b\n"
   ]
  },
  {
   "cell_type": "markdown",
   "metadata": {},
   "source": [
    "### It can't be that easy...\n",
    "\n",
    "...well, our model isn't very complicated. We do need to add in a few more operations to get some usable data. `tf.nn.softmax` is a type of normalization to make everything scale the same way. We determine loss using a different type of model called \"cross entropy\". Then we add in a little code in our training loop to train in batches of 100 images. (There are 55,000 training images!)\n",
    "\n",
    "But that's it. Watch how fast it runs."
   ]
  },
  {
   "cell_type": "code",
   "execution_count": 6,
   "metadata": {
    "collapsed": false
   },
   "outputs": [
    {
     "name": "stdout",
     "output_type": "stream",
     "text": [
      "Trained!\n"
     ]
    }
   ],
   "source": [
    "# Normalize\n",
    "sm = tf.nn.softmax(y)\n",
    "\n",
    "# Cross entropy\n",
    "y_ = tf.placeholder(tf.float32, [None, 10])\n",
    "cross_entropy = tf.reduce_mean(-tf.reduce_sum(y_ * tf.log(sm), reduction_indices=[1]))\n",
    "train_step = tf.train.GradientDescentOptimizer(0.5).minimize(cross_entropy)\n",
    "\n",
    "sess = tf.InteractiveSession()\n",
    "\n",
    "tf.global_variables_initializer().run()\n",
    "\n",
    "for _ in range(1000):\n",
    "  batch_xs, batch_ys = mnist.train.next_batch(100)\n",
    "  sess.run(train_step, feed_dict={x: batch_xs, y_: batch_ys})\n",
    "    \n",
    "print \"Trained!\""
   ]
  },
  {
   "cell_type": "markdown",
   "metadata": {},
   "source": [
    "### How do we know if it worked?\n",
    "\n",
    "We can run an accuracy function on a separate set of 5,000 images, called the \"test\" set. This sees if our model generalizes well to data that the machine hasn't seen..."
   ]
  },
  {
   "cell_type": "code",
   "execution_count": 58,
   "metadata": {
    "collapsed": false
   },
   "outputs": [
    {
     "name": "stdout",
     "output_type": "stream",
     "text": [
      "0.9162\n"
     ]
    }
   ],
   "source": [
    "correct_prediction = tf.equal(tf.argmax(sm, 1), tf.argmax(y_, 1))\n",
    "accuracy = tf.reduce_mean(tf.cast(correct_prediction, tf.float32))\n",
    "print(sess.run(accuracy, feed_dict={x: mnist.test.images, y_: mnist.test.labels}))"
   ]
  },
  {
   "cell_type": "markdown",
   "metadata": {},
   "source": [
    "### 92%!\n",
    "\n",
    "... this actually isn't very good, but this is a very simple machine learning model. Let's try it out. You can write down a digit, take a picture of it and save the picture in this directory. Change the `inputfile` variable to the name of your image, run it, and see if it could detect the digit you wrote. It will output an array of probabilities and a graph of the data that it is analyzing (after transforming it to the correct numerical format.)"
   ]
  },
  {
   "cell_type": "code",
   "execution_count": 9,
   "metadata": {
    "collapsed": false
   },
   "outputs": [
    {
     "name": "stdout",
     "output_type": "stream",
     "text": [
      "[[-0.78974885 -5.79418659  6.11572218  0.89799726 -3.08716321  0.3547672\n",
      "  -2.80192208 -0.70590359  3.07818913  2.73225403]]\n"
     ]
    },
    {
     "data": {
      "image/png": "[encoded data removed]",
      "text/plain": [
       "<matplotlib.figure.Figure at 0x10a89aed0>"
      ]
     },
     "metadata": {},
     "output_type": "display_data"
    }
   ],
   "source": [
    "\n",
    "inputfile = \"mnist-2.png\"\n",
    "\n",
    "from PIL import Image\n",
    "\n",
    "img = Image.open(inputfile)\n",
    "img = img.convert(mode=\"L\")\n",
    "img = img.resize((28, 28), Image.ANTIALIAS)\n",
    "raster_data = list()\n",
    "for col in range(28):\n",
    "    for row in range(28):\n",
    "        raster_data.append((255 - img.getpixel((row, col))) / 255.0)\n",
    "\n",
    "xs = [ raster_data ]\n",
    "\n",
    "import numpy as np\n",
    "\n",
    "xs_array = np.asarray(raster_data).reshape(1, 784)\n",
    "\n",
    "%matplotlib inline\n",
    "import matplotlib.pyplot as plt\n",
    "\n",
    "print sess.run(y, feed_dict={x: xs_array})\n",
    "\n",
    "prediction = sess.run(y, feed_dict={x: xs_array}).argmax()\n",
    "plt.title('I think the number is %d' % (prediction))\n",
    "plt.imshow(xs_array.reshape([28,28]), cmap=plt.get_cmap('gray_r'))\n",
    "plt.show()\n",
    "    \n"
   ]
  },
  {
   "cell_type": "markdown",
   "metadata": {},
   "source": [
    "### Did it work?\n",
    "\n",
    "... you may have trouble getting it to work. The reason is because the training set is actually very small and doesn't have a lot of variation. In addition, the model is simple and doesn't consider the 2D structure of an image, which is important if the digit isn't centered in the image, or if it isn't the same size or apsect ratio. (Your camera may have taken a 4:3 image, but this gets distorted into a square.)"
   ]
  },
  {
   "cell_type": "markdown",
   "metadata": {},
   "source": [
    "### So what does this mean?\n",
    "\n",
    "We will always need people to write clever code and algorithms to solve specific types of problems quickly. However, there are many problems that are more easily solved by machine learning. With the amount of data that we are generating every day, it means that machine learning is becoming a very popular method for tackling big questions and solving problems that may have never been solved with specialized algorithms. "
   ]
  }
 ],
 "metadata": {
  "kernelspec": {
   "display_name": "Python 2",
   "language": "python",
   "name": "python2"
  },
  "language_info": {
   "codemirror_mode": {
    "name": "ipython",
    "version": 2
   },
   "file_extension": ".py",
   "mimetype": "text/x-python",
   "name": "python",
   "nbconvert_exporter": "python",
   "pygments_lexer": "ipython2",
   "version": "2.7.13"
  }
 },
 "nbformat": 4,
 "nbformat_minor": 2
}
